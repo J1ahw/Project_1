{
 "cells": [
  {
   "cell_type": "markdown",
   "id": "233d1ccb",
   "metadata": {},
   "source": [
    "# Gross domestic product (GDP) is a monetary measure of the market value of all final goods and services produced in a period (quarterly or yearly) of time. GDP gives a rough estimate of the wealth and prosperity of the nation. It is considered as an important factor for any nation as it roughly correlates with a nation's life expectancy,average income of a person,amount of energy that nation consumes,and the average level of education of its citizens. Below is a brief analysis of the world gdp."
   ]
  },
  {
   "cell_type": "code",
   "execution_count": null,
   "id": "d8466f3d",
   "metadata": {},
   "outputs": [],
   "source": [
    "#Dependencies and Setup\n",
    "import matplotlib.pyplot as plt\n",
    "import pandas as pd\n",
    "import scipy.stats as st"
   ]
  },
  {
   "cell_type": "code",
   "execution_count": null,
   "id": "cdd48093",
   "metadata": {},
   "outputs": [],
   "source": [
    "# Read the  data "
   ]
  },
  {
   "cell_type": "code",
   "execution_count": null,
   "id": "e3d0a74c",
   "metadata": {},
   "outputs": [],
   "source": [
    "# Checking the number of  income            \n",
    "Upper middle income    \n",
    "Lower middle income    \n",
    "Low income    (HERE WE CAN PLOT BAR GRAPH TO SHOW THE DIFFERENCE)  "
   ]
  },
  {
   "cell_type": "code",
   "execution_count": null,
   "id": "9154b32e",
   "metadata": {},
   "outputs": [],
   "source": []
  },
  {
   "cell_type": "markdown",
   "id": "81a9e7f6",
   "metadata": {},
   "source": [
    "# From the above analysis on the basis of world GDP, we conclude that out of ---- countries there are:\n",
    "\n",
    "-- countries with High Income\n",
    "-- countries with Upper Middle Income\n",
    "-- countries with Lower Middle Income\n",
    "--countries with Low Income\n",
    "As per my analysis most of the countries fall in the ---- income group "
   ]
  },
  {
   "cell_type": "markdown",
   "id": "e8df866c",
   "metadata": {},
   "source": [
    "# Top 10 Poorest Countries."
   ]
  },
  {
   "cell_type": "code",
   "execution_count": null,
   "id": "b26f37be",
   "metadata": {},
   "outputs": [],
   "source": [
    "HERE WE CAN PLOT PIE CHART "
   ]
  },
  {
   "cell_type": "markdown",
   "id": "61a1d947",
   "metadata": {},
   "source": [
    "# Above is the analysis of top 10 poorest countries in the year -----.Acoording to our analysis(data published in ----),the most poorest country was -------"
   ]
  },
  {
   "cell_type": "markdown",
   "id": "313687cb",
   "metadata": {},
   "source": [
    "# Top 10 Richest Countries"
   ]
  },
  {
   "cell_type": "code",
   "execution_count": null,
   "id": "99aa5e04",
   "metadata": {},
   "outputs": [],
   "source": [
    "here again we can plot pie chart"
   ]
  },
  {
   "cell_type": "markdown",
   "id": "60f41783",
   "metadata": {},
   "source": [
    "Above is the analysis of top 10 richest countries in the year ----.Acoording to my analysis(data published in ----),the most richest country was -----"
   ]
  },
  {
   "cell_type": "markdown",
   "id": "565c001b",
   "metadata": {},
   "source": [
    "# Let`s talk about India or any other country"
   ]
  },
  {
   "cell_type": "code",
   "execution_count": null,
   "id": "69ef86fd",
   "metadata": {},
   "outputs": [],
   "source": [
    "we will draw a comparison  for different years for india and display results in terms of bar graphs"
   ]
  },
  {
   "cell_type": "markdown",
   "id": "bcffc981",
   "metadata": {},
   "source": [
    "# According to my analysis(e.g 1990 - 2010) of India,GDP per capita of India was extremely low in the previous years but is seen increasing gradually."
   ]
  },
  {
   "cell_type": "code",
   "execution_count": null,
   "id": "ca26943b",
   "metadata": {},
   "outputs": [],
   "source": [
    "Division of Income groups according to regions.\n",
    "we can display this result in terms of scatter plots"
   ]
  },
  {
   "cell_type": "code",
   "execution_count": null,
   "id": "0e789093",
   "metadata": {},
   "outputs": [],
   "source": [
    "From the above analysis of the year ----, i conclude that:\n",
    "\n",
    "------- & ------ is the region which has all types of income groups.\n",
    "\n",
    "------ and ------- is deprived of high income group.\n",
    "------- & --------, --------- &--------,---------- & ------- are in the same income groups.None of the regions fall in ---- income group.\n",
    "\n",
    "Region of ------- has the highest income group ie. High Income group"
   ]
  }
 ],
 "metadata": {
  "kernelspec": {
   "display_name": "Python 3 (ipykernel)",
   "language": "python",
   "name": "python3"
  },
  "language_info": {
   "codemirror_mode": {
    "name": "ipython",
    "version": 3
   },
   "file_extension": ".py",
   "mimetype": "text/x-python",
   "name": "python",
   "nbconvert_exporter": "python",
   "pygments_lexer": "ipython3",
   "version": "3.9.13"
  }
 },
 "nbformat": 4,
 "nbformat_minor": 5
}
